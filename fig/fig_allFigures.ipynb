{
 "cells": [
  {
   "cell_type": "markdown",
   "metadata": {},
   "source": [
    "University of Tuebingen \\\n",
    "DataLiteracy course -  Group Project 2023/2024 \\\n",
    "Authors: Johannes Bertram, Felix Böhm, Nadja Buttke, Fabian Morelli \n",
    "\n",
    "# Project Figures"
   ]
  },
  {
   "cell_type": "code",
   "execution_count": 3,
   "metadata": {},
   "outputs": [],
   "source": [
    "import json\n",
    "import pandas as pd\n",
    "import numpy as np\n",
    "import matplotlib.pyplot as plt\n",
    "#from datetime import date\n",
    "#from tueplots.constants.color import rgb"
   ]
  },
  {
   "cell_type": "markdown",
   "metadata": {},
   "source": [
    "## here until Import Data can be deleted later"
   ]
  },
  {
   "cell_type": "code",
   "execution_count": 8,
   "metadata": {},
   "outputs": [
    {
     "name": "stdout",
     "output_type": "stream",
     "text": [
      "Keys:\n",
      "dict_keys(['Kiel Hbf', 'Mainz Hbf', 'München Hbf', 'Hannover Hbf', 'Duisburg Hbf', 'Saarbrücken Hbf', 'Stuttgart Hbf', 'Karlsruhe Hbf', 'Köln Hbf', 'Nürnberg Hbf', 'Bremen Hbf', 'Hamburg Hbf', 'Essen Hbf', 'Wiesbaden Hbf', 'Potsdam Hbf', 'Dortmund Hbf', 'Schwerin Hbf', 'Düsseldorf Hbf'])\n",
      "City possible switch times from Berlin to Karlsruhe e.g.:\n"
     ]
    }
   ],
   "source": [
    "# delay_Potsdam Hbf.json enthält alle Verspätungen von Zügen von Potsdam über Frankfurt\n",
    "# zu anderen Städten gefahren sind. Potsdam hat wenige Verbindungen da sieht man die Struktur besser\n",
    "with open('../dat/delay/delay_Berlin Hbf.json', 'r') as file:\n",
    "    delay = json.load(file)\n",
    "#with open('../data/reachable_per_stop/reachable_per_stop/reachable_Potsdam Hbf.json', 'r') as file:\n",
    "#    reachable = json.load(file)\n",
    "\n",
    "#print('delay:')\n",
    "#print(delay)\n",
    "\n",
    "# delay ist ein dictionary das als key die Ziel-Stadt enthält\n",
    "print('Keys:')\n",
    "print(delay.keys())\n",
    "\n",
    "# Wenn man eine Ziel-Stadt hat, erhält man erneut ein dictionary, das die keys '1.0' bis '60.0' für die Umsteigezeit\n",
    "# in Frankfurt haben kann. Dabei sind nur die keys enthalten für die es tatsächlich umsteigezeiten gab.\n",
    "print('City possible switch times from Berlin to Karlsruhe e.g.:')\n",
    "#print(delay['Karlsruhe Hbf'].keys()) \n",
    "# Was man dann am ende erhält ist eine Liste von allen Verspätungen, von Potsdam nach Karlsruhe bei einer gegebenen\n",
    "# umsteigezeit in Frankfurt\n",
    "#for key in delay['Karlsruhe Hbf'].keys(): \n",
    "#    print(\"Von Berlin nach Karlsruhe mit Umsteigezeit: \", key, \"und Verspätungen: \", delay['Karlsruhe Hbf'][key])\n",
    "\n"
   ]
  },
  {
   "cell_type": "code",
   "execution_count": 1,
   "metadata": {},
   "outputs": [],
   "source": [
    "#print(\"Reachable:\")\n",
    "#print(reachable)\n",
    "# reachable ist ähnlich aufgebaut und hat auch wieder die gleichen Ziel-Städte\n",
    "#print('Keys')\n",
    "#print(reachable.keys())\n",
    "# und auch die gleichen Umsteigezeiten\n",
    "#print(reachable['Karlsruhe Hbf'].keys())\n",
    "# Der unterschied ist dass man am ende eine Liste mit nur 2 einträgen erhält, das im ersten eintrag die Anzahl der\n",
    "# erreichten Umstiege enthält und im Zweiten eintrag die Anzahl der nicht erreichten umstiege\n",
    "# So kann man die umsteigezeiten sortieren indem man den string erst in einen float umwandelt.\n",
    "#sorted_keys_Potsdam_to_Karlsruhe = sorted(reachable['Karlsruhe Hbf'], key=lambda x: float(x))\n",
    "\n",
    "#print('\\nsorted keys')\n",
    "#print(sorted_keys_Potsdam_to_Karlsruhe)\n",
    "#for key in sorted_keys_Potsdam_to_Karlsruhe:\n",
    "#    print(\"Von Potsdam nach Karlsruhe waren bei Umsteigezeit:\", key, \"insgesamt \", reachable['Karlsruhe Hbf'][key][0],\n",
    "#          \"Umstiege erreichbar und\", reachable['Karlsruhe Hbf'][key][1], \"Umstiege nicht erreichbar\")"
   ]
  },
  {
   "cell_type": "markdown",
   "metadata": {},
   "source": [
    "## Import Data"
   ]
  },
  {
   "cell_type": "code",
   "execution_count": 16,
   "metadata": {},
   "outputs": [
    {
     "data": {
      "text/html": [
       "<div>\n",
       "<style scoped>\n",
       "    .dataframe tbody tr th:only-of-type {\n",
       "        vertical-align: middle;\n",
       "    }\n",
       "\n",
       "    .dataframe tbody tr th {\n",
       "        vertical-align: top;\n",
       "    }\n",
       "\n",
       "    .dataframe thead th {\n",
       "        text-align: right;\n",
       "    }\n",
       "</style>\n",
       "<table border=\"1\" class=\"dataframe\">\n",
       "  <thead>\n",
       "    <tr style=\"text-align: right;\">\n",
       "      <th></th>\n",
       "      <th>switch time</th>\n",
       "      <th>date</th>\n",
       "      <th>delay</th>\n",
       "      <th>reachable</th>\n",
       "    </tr>\n",
       "  </thead>\n",
       "  <tbody>\n",
       "    <tr>\n",
       "      <th>Kiel Hbf</th>\n",
       "      <td>[2.0, 2.0, 2.0, 2.0, 2.0, 2.0, 2.0, 2.0, 2.0, ...</td>\n",
       "      <td>[2023-01-20 21:41:00, 2023-01-23 21:41:00, 202...</td>\n",
       "      <td>[180, 29, 180, 0, 180, 180, 180, 0, 0, 180, 0,...</td>\n",
       "      <td>[2, 3, 2, 3, 2, 2, 2, 3, 3, 2, 3, 3, 3, 3, 3, ...</td>\n",
       "    </tr>\n",
       "    <tr>\n",
       "      <th>Mainz Hbf</th>\n",
       "      <td>[50.0, 50.0, 50.0, 50.0, 46.0, 46.0, 50.0, 50....</td>\n",
       "      <td>[2023-11-25 13:15:00, 2023-11-27 13:15:00, 202...</td>\n",
       "      <td>[0, 0, 0, 0, 78, 14, 0, 0, 19, 10, 2, 0, 24, 5...</td>\n",
       "      <td>[3, 3, 3, 3, 3, 3, 3, 3, 3, 3, 3, 3, 3, 3, 3, ...</td>\n",
       "    </tr>\n",
       "    <tr>\n",
       "      <th>München Hbf</th>\n",
       "      <td>[1.0, 1.0, 28.0, 1.0, 1.0, 28.0, 1.0, 1.0, 28....</td>\n",
       "      <td>[2023-11-25 15:07:00, 2023-11-27 15:07:00, 202...</td>\n",
       "      <td>[9, 66.0, 8, 51, 94.0, 36, 87.0, 87.0, 60.0, 9...</td>\n",
       "      <td>[3, 2, 3, 3, 2, 3, 2, 2, 2, 3, 3, 3, 3, 3, 2, ...</td>\n",
       "    </tr>\n",
       "    <tr>\n",
       "      <th>Hannover Hbf</th>\n",
       "      <td>[59.0, 22.0, 59.0, 22.0, 22.0, 59.0, 59.0, 22....</td>\n",
       "      <td>[2023-11-25 15:56:00, 2023-11-25 15:17:00, 202...</td>\n",
       "      <td>[2, 32, 1, 0, 83, 60, 31.0, 70.0, 38, 87.0, 32...</td>\n",
       "      <td>[3, 3, 3, 3, 3, 3, 2, 2, 3, 2, 3, 3, 3, 3, 2, ...</td>\n",
       "    </tr>\n",
       "    <tr>\n",
       "      <th>Duisburg Hbf</th>\n",
       "      <td>[46.0, 13.0, 46.0, 13.0, 17.0, 17.0, 46.0, 13....</td>\n",
       "      <td>[2023-01-23 20:44:00, 2023-01-23 18:50:00, 202...</td>\n",
       "      <td>[93, 2, 14, 0, 35, 133.0, 29, 4, 18, 2, 18, 19...</td>\n",
       "      <td>[3, 3, 3, 3, 3, 2, 3, 3, 3, 3, 3, 3, 3, 3, 3, ...</td>\n",
       "    </tr>\n",
       "  </tbody>\n",
       "</table>\n",
       "</div>"
      ],
      "text/plain": [
       "                                                    switch time  \\\n",
       "Kiel Hbf      [2.0, 2.0, 2.0, 2.0, 2.0, 2.0, 2.0, 2.0, 2.0, ...   \n",
       "Mainz Hbf     [50.0, 50.0, 50.0, 50.0, 46.0, 46.0, 50.0, 50....   \n",
       "München Hbf   [1.0, 1.0, 28.0, 1.0, 1.0, 28.0, 1.0, 1.0, 28....   \n",
       "Hannover Hbf  [59.0, 22.0, 59.0, 22.0, 22.0, 59.0, 59.0, 22....   \n",
       "Duisburg Hbf  [46.0, 13.0, 46.0, 13.0, 17.0, 17.0, 46.0, 13....   \n",
       "\n",
       "                                                           date  \\\n",
       "Kiel Hbf      [2023-01-20 21:41:00, 2023-01-23 21:41:00, 202...   \n",
       "Mainz Hbf     [2023-11-25 13:15:00, 2023-11-27 13:15:00, 202...   \n",
       "München Hbf   [2023-11-25 15:07:00, 2023-11-27 15:07:00, 202...   \n",
       "Hannover Hbf  [2023-11-25 15:56:00, 2023-11-25 15:17:00, 202...   \n",
       "Duisburg Hbf  [2023-01-23 20:44:00, 2023-01-23 18:50:00, 202...   \n",
       "\n",
       "                                                          delay  \\\n",
       "Kiel Hbf      [180, 29, 180, 0, 180, 180, 180, 0, 0, 180, 0,...   \n",
       "Mainz Hbf     [0, 0, 0, 0, 78, 14, 0, 0, 19, 10, 2, 0, 24, 5...   \n",
       "München Hbf   [9, 66.0, 8, 51, 94.0, 36, 87.0, 87.0, 60.0, 9...   \n",
       "Hannover Hbf  [2, 32, 1, 0, 83, 60, 31.0, 70.0, 38, 87.0, 32...   \n",
       "Duisburg Hbf  [93, 2, 14, 0, 35, 133.0, 29, 4, 18, 2, 18, 19...   \n",
       "\n",
       "                                                      reachable  \n",
       "Kiel Hbf      [2, 3, 2, 3, 2, 2, 2, 3, 3, 2, 3, 3, 3, 3, 3, ...  \n",
       "Mainz Hbf     [3, 3, 3, 3, 3, 3, 3, 3, 3, 3, 3, 3, 3, 3, 3, ...  \n",
       "München Hbf   [3, 2, 3, 3, 2, 3, 2, 2, 2, 3, 3, 3, 3, 3, 2, ...  \n",
       "Hannover Hbf  [3, 3, 3, 3, 3, 3, 2, 2, 3, 2, 3, 3, 3, 3, 2, ...  \n",
       "Duisburg Hbf  [3, 3, 3, 3, 3, 2, 3, 3, 3, 3, 3, 3, 3, 3, 3, ...  "
      ]
     },
     "execution_count": 16,
     "metadata": {},
     "output_type": "execute_result"
    }
   ],
   "source": [
    "df = pd.read_json('../dat/delay/delay_Berlin Hbf.json', orient='index')\n",
    "df.head()\n"
   ]
  },
  {
   "cell_type": "code",
   "execution_count": 19,
   "metadata": {},
   "outputs": [
    {
     "name": "stderr",
     "output_type": "stream",
     "text": [
      "/var/folders/1c/78x0c05d3tx162gplqq1961h0000gn/T/ipykernel_2840/4192970125.py:1: FutureWarning: Series.__getitem__ treating keys as positions is deprecated. In a future version, integer keys will always be treated as labels (consistent with DataFrame behavior). To access a value by position, use `ser.iloc[pos]`\n",
      "  np.mean(df[\"switch time\"][0])\n"
     ]
    },
    {
     "data": {
      "text/plain": [
       "13.920591456736036"
      ]
     },
     "execution_count": 19,
     "metadata": {},
     "output_type": "execute_result"
    }
   ],
   "source": [
    "np.mean(df[\"switch time\"][0])"
   ]
  },
  {
   "cell_type": "code",
   "execution_count": null,
   "metadata": {},
   "outputs": [],
   "source": []
  }
 ],
 "metadata": {
  "kernelspec": {
   "display_name": "base",
   "language": "python",
   "name": "python3"
  },
  "language_info": {
   "codemirror_mode": {
    "name": "ipython",
    "version": 3
   },
   "file_extension": ".py",
   "mimetype": "text/x-python",
   "name": "python",
   "nbconvert_exporter": "python",
   "pygments_lexer": "ipython3",
   "version": "3.11.5"
  }
 },
 "nbformat": 4,
 "nbformat_minor": 2
}
