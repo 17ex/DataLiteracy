{
 "cells": [
  {
   "cell_type": "code",
   "execution_count": 1,
   "metadata": {},
   "outputs": [],
   "source": [
    "import os\n",
    "import pandas as pd\n",
    "import numpy as np\n",
    "import matplotlib.pyplot as plt\n",
    "import seaborn as sns\n",
    "\n",
    "from tueplots import bundles\n",
    "from tueplots.constants.color import rgb"
   ]
  },
  {
   "cell_type": "code",
   "execution_count": 2,
   "metadata": {},
   "outputs": [
    {
     "name": "stdout",
     "output_type": "stream",
     "text": [
      "no_wait\n",
      "theoretical_max_gain\n"
     ]
    }
   ],
   "source": [
    "gain_dict = {}\n",
    "main_folder_path = '../dat/convergence'\n",
    "for foldername in os.listdir(main_folder_path):\n",
    "    folder_path = os.path.join(main_folder_path, foldername)\n",
    "\n",
    "    folder_dict = {}\n",
    "    print(foldername)\n",
    "\n",
    "    for filename in os.listdir(folder_path):\n",
    "        if filename.endswith('.json'):\n",
    "            file_path = os.path.join(folder_path, filename)\n",
    "            \n",
    "            key_city = filename.split('_')[2].replace(\".json\", \"\")\n",
    "            key_city = key_city.replace('ä', 'ae').replace('ö', 'oe').replace('ü', 'ue')\n",
    "\n",
    "            df = pd.read_json(file_path, orient='index')\n",
    "            df.index = df.index.str.replace('ä', 'ae').str.replace('ö', 'oe').str.replace('ü', 'ue')\n",
    "            folder_dict[key_city] = df\n",
    "    \n",
    "    gain_dict[foldername] = folder_dict"
   ]
  },
  {
   "cell_type": "code",
   "execution_count": 3,
   "metadata": {},
   "outputs": [],
   "source": [
    "dict_mean_delays = {}\n",
    "\n",
    "for key_gain, df_dict in gain_dict.items():\n",
    "    empty = pd.DataFrame(index=range(1, 181), columns=['mean_delay', 'reachable1', 'reachable2', 'reachable3'])\n",
    "    empty.loc[:, ['reachable1', 'reachable2', 'reachable3']] = 0\n",
    "    delay_matrix = [[] for _ in range(180)]\n",
    "\n",
    "    for key, df in df_dict.items():\n",
    "\n",
    "        for i in range(len(df)):\n",
    "            row = df.iloc[i]\n",
    "            valid_minutes = np.array(row['switch time']) <= 180\n",
    "            minutes = np.array(row['switch time'])[valid_minutes].astype(int)\n",
    "            delays = np.array(row['delay'])[valid_minutes]\n",
    "\n",
    "            for minute, delay in zip(minutes, delays):\n",
    "                delay_matrix[minute-1].append(delay)\n",
    "\n",
    "            cases = np.array(row['reachable'])[valid_minutes]\n",
    "            for case in [1, 2, 3]:\n",
    "                empty.loc[minutes[cases == case], f'reachable{case}'] += 1\n",
    "\n",
    "    means = [np.mean(minute).round(2) if minute else np.nan for minute in delay_matrix]\n",
    "    empty['mean_delay'] = means\n",
    "    df_mean_delays = empty\n",
    "\n",
    "    dict_mean_delays[key_gain] = df_mean_delays\n",
    "\n"
   ]
  },
  {
   "cell_type": "code",
   "execution_count": 5,
   "metadata": {},
   "outputs": [
    {
     "data": {
      "image/png": "[encoded data removed]",
      "text/plain": [
       "<Figure size 325x200.861 with 1 Axes>"
      ]
     },
     "metadata": {},
     "output_type": "display_data"
    }
   ],
   "source": [
    "mean_train_delay = 9.462575828807317\n",
    "max_transfer_time = 180\n",
    "bucket_size = 5\n",
    "\n",
    "plt.rcParams.update(bundles.icml2022(column=\"half\", nrows=1, ncols=1, usetex=False))\n",
    "#plt.rcParams.update(plt.rcParamsDefault)\n",
    "plt.rcParams.update()\n",
    "#plt.rcParams.update({'font.size': 15})\n",
    "\n",
    "worst_case = np.array(dict_mean_delays['no_wait'][\"mean_delay\"])\n",
    "best_case = np.array(dict_mean_delays['theoretical_max_gain'][\"mean_delay\"])\n",
    "\n",
    "# create data buckets\n",
    "data_array = np.array(worst_case)\n",
    "buckets = data_array.reshape(max_transfer_time // bucket_size, bucket_size)\n",
    "means = np.mean(buckets, axis=1)\n",
    "worst_case = means\n",
    "\n",
    "data_array = np.array(best_case)\n",
    "buckets = data_array.reshape(max_transfer_time // bucket_size, bucket_size)\n",
    "means = np.mean(buckets, axis=1)\n",
    "best_case = means\n",
    "\n",
    "x_data = np.arange(1 + bucket_size/2, max_transfer_time, bucket_size) \n",
    "y_data = best_case  \n",
    "\n",
    "fig, ax = plt.subplots() #figsize=(8, 6)\n",
    "\n",
    "# plot areas\n",
    "ax.fill_between(x_data, 0, mean_train_delay, color=\"#DBDB8D\", label='mean arrival delay')\n",
    "ax.fill_between(x_data, mean_train_delay, np.min(best_case), color=\"#FFBB78\", label='cancellation delay')\n",
    "ax.fill_between(x_data, np.min(best_case), best_case, color=\"#C49C94\", where=(best_case >= np.min(best_case)), label='best case transfer delay')\n",
    "ax.fill_between(x_data, np.min(best_case), worst_case, color=\"#C49C94\", alpha=0.5, where=(worst_case >= np.min(best_case)), label='worst case transfer delay')\n",
    "\n",
    "# plot data\n",
    "ax.scatter(x_data, worst_case, color=\"red\", marker='.')\n",
    "ax.scatter(x_data, best_case, color=\"grey\", marker='.')\n",
    "ax.plot(x_data, worst_case, color=\"black\", linewidth=0.5)\n",
    "ax.plot(x_data, best_case, color=\"black\", linewidth=0.5)\n",
    "\n",
    "# Set y and x limits\n",
    "ax.set_ylim([0, 80])\n",
    "ax.set_xlim([np.min(x_data), np.max(x_data)])\n",
    "\n",
    "# Labels and legend\n",
    "ax.set_xlabel('transfer time [min]')\n",
    "ax.set_ylabel('delay at destination [min]')\n",
    "ax.legend()\n",
    "\n",
    "plt.savefig(\"plot_delay_decomposition.pdf\", format=\"pdf\")\n",
    "plt.show()"
   ]
  },
  {
   "cell_type": "code",
   "execution_count": null,
   "metadata": {},
   "outputs": [],
   "source": []
  },
  {
   "cell_type": "code",
   "execution_count": null,
   "metadata": {},
   "outputs": [],
   "source": []
  }
 ],
 "metadata": {
  "kernelspec": {
   "display_name": "Python 3",
   "language": "python",
   "name": "python3"
  },
  "language_info": {
   "codemirror_mode": {
    "name": "ipython",
    "version": 3
   },
   "file_extension": ".py",
   "mimetype": "text/x-python",
   "name": "python",
   "nbconvert_exporter": "python",
   "pygments_lexer": "ipython3",
   "version": "3.11.7"
  }
 },
 "nbformat": 4,
 "nbformat_minor": 2
}
