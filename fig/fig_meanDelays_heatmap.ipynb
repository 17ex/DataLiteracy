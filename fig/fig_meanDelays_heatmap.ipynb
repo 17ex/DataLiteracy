{
 "cells": [
  {
   "cell_type": "markdown",
   "metadata": {},
   "source": [
    "University of Tuebingen \\\n",
    "DataLiteracy course -  Group Project 2023/2024 \\\n",
    "Authors: Johannes Bertram, Felix Böhm, Nadja Buttke, Fabian Morelli \n",
    "\n",
    "# Project Figures for Visualizing mean delays"
   ]
  },
  {
   "cell_type": "code",
   "execution_count": 1,
   "metadata": {},
   "outputs": [],
   "source": [
    "import os\n",
    "import pandas as pd\n",
    "import numpy as np\n",
    "import matplotlib.pyplot as plt\n",
    "from matplotlib.colors import ListedColormap\n",
    "import seaborn as sns\n",
    "import sys\n",
    "\n",
    "from tueplots import bundles\n",
    "from tueplots.constants.color import rgb\n",
    "\n",
    "cwd = os.getcwd()\n",
    "REPO_ROOT = os.path.realpath(os.path.join(cwd, os.pardir))\n",
    "sys.path.insert(1, os.path.join(REPO_ROOT, 'src'))\n",
    "from plotting_functions import read_data, get_mean_delays"
   ]
  },
  {
   "cell_type": "markdown",
   "metadata": {},
   "source": [
    "## Import data"
   ]
  },
  {
   "cell_type": "code",
   "execution_count": 4,
   "metadata": {},
   "outputs": [
    {
     "name": "stdout",
     "output_type": "stream",
     "text": [
      "Potsdam Hbf\n",
      "Dortmund Hbf\n",
      "Duesseldorf Hbf\n",
      "Koeln Hbf\n",
      "Nuernberg Hbf\n",
      "Berlin Hbf\n",
      "Essen Hbf\n",
      "Karlsruhe Hbf\n",
      "Schwerin Hbf\n",
      "Hamburg Hbf\n",
      "Erfurt Hbf\n",
      "Magdeburg Hbf\n",
      "Wiesbaden Hbf\n",
      "Bremen Hbf\n",
      "Muenchen Hbf\n",
      "Hannover Hbf\n",
      "Stuttgart Hbf\n",
      "Saarbruecken Hbf\n",
      "Kiel Hbf\n",
      "Mainz Hbf\n",
      "Leipzig Hbf\n",
      "Duisburg Hbf\n",
      "Dresden Hbf\n"
     ]
    }
   ],
   "source": [
    "df_dict = read_data('../dat/gain-comparison/avg_gain')\n",
    "cities = list(df_dict.keys())\n",
    "cities.sort()"
   ]
  },
  {
   "cell_type": "code",
   "execution_count": 5,
   "metadata": {},
   "outputs": [],
   "source": [
    "df_mean_delays = get_mean_delays(df_dict)['avg_gain']\n",
    "switch_times_array = list(range(1,61,1))\n",
    "df_mean_delays[\"switch_times\"] = switch_times_array"
   ]
  },
  {
   "cell_type": "markdown",
   "metadata": {},
   "source": [
    "## Mean Delay for each switch time"
   ]
  },
  {
   "cell_type": "markdown",
   "metadata": {},
   "source": [
    "## Mean delay at destination"
   ]
  },
  {
   "cell_type": "code",
   "execution_count": 6,
   "metadata": {},
   "outputs": [
    {
     "name": "stderr",
     "output_type": "stream",
     "text": [
      "/Users/Nadja/anaconda3/lib/python3.11/site-packages/numpy/core/fromnumeric.py:3504: RuntimeWarning: Mean of empty slice.\n",
      "  return _methods._mean(a, axis=axis, dtype=dtype,\n",
      "/Users/Nadja/anaconda3/lib/python3.11/site-packages/numpy/core/_methods.py:129: RuntimeWarning: invalid value encountered in scalar divide\n",
      "  ret = ret.dtype.type(ret / rcount)\n",
      "/Users/Nadja/anaconda3/lib/python3.11/site-packages/numpy/core/fromnumeric.py:3504: RuntimeWarning: Mean of empty slice.\n",
      "  return _methods._mean(a, axis=axis, dtype=dtype,\n",
      "/Users/Nadja/anaconda3/lib/python3.11/site-packages/numpy/core/_methods.py:129: RuntimeWarning: invalid value encountered in scalar divide\n",
      "  ret = ret.dtype.type(ret / rcount)\n",
      "/Users/Nadja/anaconda3/lib/python3.11/site-packages/pandas/core/algorithms.py:1814: RuntimeWarning: Mean of empty slice\n",
      "  return lib.map_infer(values, mapper, convert=convert)\n",
      "/Users/Nadja/anaconda3/lib/python3.11/site-packages/numpy/core/fromnumeric.py:3504: RuntimeWarning: Mean of empty slice.\n",
      "  return _methods._mean(a, axis=axis, dtype=dtype,\n",
      "/Users/Nadja/anaconda3/lib/python3.11/site-packages/numpy/core/_methods.py:129: RuntimeWarning: invalid value encountered in scalar divide\n",
      "  ret = ret.dtype.type(ret / rcount)\n",
      "/Users/Nadja/anaconda3/lib/python3.11/site-packages/numpy/core/fromnumeric.py:3504: RuntimeWarning: Mean of empty slice.\n",
      "  return _methods._mean(a, axis=axis, dtype=dtype,\n",
      "/Users/Nadja/anaconda3/lib/python3.11/site-packages/numpy/core/_methods.py:129: RuntimeWarning: invalid value encountered in scalar divide\n",
      "  ret = ret.dtype.type(ret / rcount)\n",
      "/Users/Nadja/anaconda3/lib/python3.11/site-packages/pandas/core/algorithms.py:1814: RuntimeWarning: Mean of empty slice\n",
      "  return lib.map_infer(values, mapper, convert=convert)\n",
      "/Users/Nadja/anaconda3/lib/python3.11/site-packages/numpy/core/fromnumeric.py:3504: RuntimeWarning: Mean of empty slice.\n",
      "  return _methods._mean(a, axis=axis, dtype=dtype,\n",
      "/Users/Nadja/anaconda3/lib/python3.11/site-packages/numpy/core/_methods.py:129: RuntimeWarning: invalid value encountered in scalar divide\n",
      "  ret = ret.dtype.type(ret / rcount)\n",
      "/Users/Nadja/anaconda3/lib/python3.11/site-packages/numpy/core/fromnumeric.py:3504: RuntimeWarning: Mean of empty slice.\n",
      "  return _methods._mean(a, axis=axis, dtype=dtype,\n",
      "/Users/Nadja/anaconda3/lib/python3.11/site-packages/numpy/core/_methods.py:129: RuntimeWarning: invalid value encountered in scalar divide\n",
      "  ret = ret.dtype.type(ret / rcount)\n",
      "/Users/Nadja/anaconda3/lib/python3.11/site-packages/numpy/core/fromnumeric.py:3504: RuntimeWarning: Mean of empty slice.\n",
      "  return _methods._mean(a, axis=axis, dtype=dtype,\n",
      "/Users/Nadja/anaconda3/lib/python3.11/site-packages/numpy/core/_methods.py:129: RuntimeWarning: invalid value encountered in scalar divide\n",
      "  ret = ret.dtype.type(ret / rcount)\n",
      "/Users/Nadja/anaconda3/lib/python3.11/site-packages/pandas/core/algorithms.py:1814: RuntimeWarning: Mean of empty slice\n",
      "  return lib.map_infer(values, mapper, convert=convert)\n",
      "/Users/Nadja/anaconda3/lib/python3.11/site-packages/numpy/core/fromnumeric.py:3504: RuntimeWarning: Mean of empty slice.\n",
      "  return _methods._mean(a, axis=axis, dtype=dtype,\n",
      "/Users/Nadja/anaconda3/lib/python3.11/site-packages/numpy/core/_methods.py:129: RuntimeWarning: invalid value encountered in scalar divide\n",
      "  ret = ret.dtype.type(ret / rcount)\n",
      "/Users/Nadja/anaconda3/lib/python3.11/site-packages/numpy/core/fromnumeric.py:3504: RuntimeWarning: Mean of empty slice.\n",
      "  return _methods._mean(a, axis=axis, dtype=dtype,\n",
      "/Users/Nadja/anaconda3/lib/python3.11/site-packages/numpy/core/_methods.py:129: RuntimeWarning: invalid value encountered in scalar divide\n",
      "  ret = ret.dtype.type(ret / rcount)\n",
      "/Users/Nadja/anaconda3/lib/python3.11/site-packages/pandas/core/algorithms.py:1814: RuntimeWarning: Mean of empty slice\n",
      "  return lib.map_infer(values, mapper, convert=convert)\n",
      "/Users/Nadja/anaconda3/lib/python3.11/site-packages/numpy/core/fromnumeric.py:3504: RuntimeWarning: Mean of empty slice.\n",
      "  return _methods._mean(a, axis=axis, dtype=dtype,\n",
      "/Users/Nadja/anaconda3/lib/python3.11/site-packages/numpy/core/_methods.py:129: RuntimeWarning: invalid value encountered in scalar divide\n",
      "  ret = ret.dtype.type(ret / rcount)\n"
     ]
    }
   ],
   "source": [
    "empty = pd.DataFrame(columns=cities, index=cities)\n",
    "\n",
    "# Data processing\n",
    "\n",
    "df_mean = empty.copy()\n",
    "df_median = empty.copy()\n",
    "\n",
    "for key, df in df_dict.items():\n",
    "    #print(key)\n",
    "    #display(df.head(2))\n",
    "    df[\"meanDelay\"] =df[\"delay\"].apply(np.mean)\n",
    "    df[\"medianDelay\"] = df[\"delay\"].apply(np.median)\n",
    "    array_mean = df[\"delay\"].apply(np.nanmean).round()\n",
    "    array_median = df[\"delay\"].apply(np.median)\n",
    "    #print(key)\n",
    "    #print(key, array_mean)\n",
    "    df_mean.loc[key] = array_mean\n",
    "    df_median.loc[key] = array_median\n",
    "    \n",
    "\n",
    "    #break\n",
    "\n",
    "df_mean = df_mean.fillna(np.nan)"
   ]
  },
  {
   "cell_type": "code",
   "execution_count": 7,
   "metadata": {},
   "outputs": [],
   "source": [
    "df_mean.drop('Potsdam Hbf', inplace=True)\n",
    "del df_mean['Potsdam Hbf']"
   ]
  },
  {
   "cell_type": "code",
   "execution_count": 8,
   "metadata": {},
   "outputs": [
    {
     "data": {
      "image/png": "[encoded data removed]",
      "text/plain": [
       "<Figure size 325x401.722 with 2 Axes>"
      ]
     },
     "metadata": {},
     "output_type": "display_data"
    }
   ],
   "source": [
    "plt.rcParams.update(bundles.icml2022(column=\"half\", nrows=2, ncols=1, usetex=False))\n",
    "#plt.rcParams['font.serif'] = 'Times New Roman'  # Or another available font\n",
    "#plt.rcParams['font.family'] = 'serif'\n",
    "#nan_color = 'lightgrey'\n",
    "\n",
    "state_capitals = [\n",
    "    \"Berlin Hbf\", \"Hamburg Hbf\", \"Muenchen Hbf\", \"Stuttgart Hbf\", \n",
    "    \"Duesseldorf Hbf\", \"Mainz Hbf\", \"Wiesbaden Hbf\", \"Saarbruecken Hbf\", \n",
    "    \"Schwerin Hbf\", \"Dresden Hbf\", \"Magdeburg Hbf\", \n",
    "]\n",
    "\n",
    "cleaned_capitals = [city.replace(' Hbf', '') for city in state_capitals]\n",
    "\n",
    "df_mean.index = df_mean.index.str.replace(' Hbf', '')\n",
    "df_mean.columns = df_mean.columns.str.replace(' Hbf', '')\n",
    "\n",
    "df_filtered = df_mean.loc[cleaned_capitals, cleaned_capitals]\n",
    "\n",
    "df_done = df_filtered.sort_index().sort_index(axis=1)\n",
    "plt.figure()\n",
    "\n",
    "#palette = sns.cubehelix_palette(start=.5, rot=-.5, as_cmap=True)\n",
    "#data_sorted = sorted(set( list(filter(lambda x: not np.isnan(x), df_mean.values.flatten()))), reverse=True)\n",
    "#second_highest = data_sorted[1]\n",
    "#min_data = data_sorted[-1]\n",
    "\n",
    "cmap = sns.color_palette(\"Reds\", as_cmap=True)\n",
    "cmap.set_bad('gray')  # Set color for NaN values\n",
    "\n",
    "# Plot the heatmap\n",
    "\n",
    "heatmap = sns.heatmap(df_done, annot=False, cmap=cmap, cbar=True, \n",
    "                      vmin=0, vmax=df_mean.max().max())  # , vmin=0, vmax=second_highest\n",
    "\n",
    "#cbar = heatmap.collections[0].colorbar\n",
    "#cbar.set_ticks([cbar.vmin, cbar.vmax])\n",
    "\n",
    "\n",
    "plt.savefig(\"plot_meanDelay_heatmap_reds.pdf\", format=\"pdf\")\n",
    "\n",
    "plt.show()"
   ]
  },
  {
   "cell_type": "code",
   "execution_count": null,
   "metadata": {},
   "outputs": [],
   "source": []
  }
 ],
 "metadata": {
  "kernelspec": {
   "display_name": "base",
   "language": "python",
   "name": "python3"
  },
  "language_info": {
   "codemirror_mode": {
    "name": "ipython",
    "version": 3
   },
   "file_extension": ".py",
   "mimetype": "text/x-python",
   "name": "python",
   "nbconvert_exporter": "python",
   "pygments_lexer": "ipython3",
   "version": "3.11.7"
  }
 },
 "nbformat": 4,
 "nbformat_minor": 2
}
