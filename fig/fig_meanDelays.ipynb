{
 "cells": [
  {
   "cell_type": "markdown",
   "metadata": {},
   "source": [
    "University of Tuebingen \\\n",
    "DataLiteracy course -  Group Project 2023/2024 \\\n",
    "Authors: Johannes Bertram, Felix Böhm, Nadja Buttke, Fabian Morelli \n",
    "\n",
    "# Project Figures for Visualizing mean delays"
   ]
  },
  {
   "cell_type": "code",
   "execution_count": 1,
   "metadata": {},
   "outputs": [],
   "source": [
    "import os\n",
    "import pandas as pd\n",
    "import numpy as np\n",
    "import matplotlib.pyplot as plt\n",
    "import seaborn as sns\n",
    "import sys\n",
    "\n",
    "from tueplots import bundles\n",
    "from tueplots.constants.color import rgb\n",
    "\n",
    "cwd = os.getcwd()\n",
    "REPO_ROOT = os.path.realpath(os.path.join(cwd, os.pardir))\n",
    "sys.path.insert(1, os.path.join(REPO_ROOT, 'src'))\n",
    "from plotting_functions import read_data, get_mean_delays"
   ]
  },
  {
   "cell_type": "markdown",
   "metadata": {},
   "source": [
    "## Import data"
   ]
  },
  {
   "cell_type": "code",
   "execution_count": 3,
   "metadata": {},
   "outputs": [],
   "source": [
    "df_dict = read_data('../dat/results/exp_007', compare_gains=True)\n",
    "df_mean_delays = get_mean_delays(df_dict[\"delay\"], cases_needed=True)[\"avg_gain\"]\n",
    "switch_times_array = list(range(1,61,1))\n",
    "df_mean_delays[\"switch_times\"] = switch_times_array"
   ]
  },
  {
   "cell_type": "markdown",
   "metadata": {},
   "source": [
    "## Mean Delay for each switch time "
   ]
  },
  {
   "cell_type": "markdown",
   "metadata": {},
   "source": [
    "### Plot"
   ]
  },
  {
   "cell_type": "code",
   "execution_count": 7,
   "metadata": {},
   "outputs": [
    {
     "data": {
      "image/png": "[encoded data removed]",
      "text/plain": [
       "<Figure size 325x200.861 with 2 Axes>"
      ]
     },
     "metadata": {},
     "output_type": "display_data"
    }
   ],
   "source": [
    "plt.rcParams.update(bundles.icml2022(column=\"half\", nrows=1, ncols=1, usetex=False))\n",
    "plt.rcParams['font.serif'] = 'Times New Roman'  \n",
    "plt.rcParams['font.family'] = 'serif'\n",
    "\n",
    "\n",
    "group_size = 5  \n",
    "\n",
    "grouped_mean_delays = []\n",
    "grouped_reachable1 = []\n",
    "grouped_reachable2 = []\n",
    "grouped_reachable3 = []\n",
    "\n",
    "for i in range(0, len(df_mean_delays.switch_times), group_size):\n",
    "    group_sum_mean_delays = np.sum(df_mean_delays.mean_delay[i:i+group_size])\n",
    "    grouped_mean_delays.append(group_sum_mean_delays)\n",
    "\n",
    "    group_sum_reachable1 = np.sum(df_mean_delays.reachable1[i:i+group_size])\n",
    "    grouped_reachable1.append(group_sum_reachable1)\n",
    "\n",
    "    group_sum_reachable2 = np.sum(df_mean_delays.reachable2[i:i+group_size])\n",
    "    grouped_reachable2.append(group_sum_reachable2)\n",
    "\n",
    "    group_sum_reachable3 = np.sum(df_mean_delays.reachable3[i:i+group_size])\n",
    "    grouped_reachable3.append(group_sum_reachable3)\n",
    "\n",
    "\n",
    "x = np.arange(len(grouped_mean_delays))\n",
    "\n",
    "y_ticks_array = np.arange(0, max(grouped_mean_delays)/group_size+1, 10)\n",
    "\n",
    "\n",
    "fig, ax1 = plt.subplots()\n",
    "\n",
    "width = 0.3\n",
    "ax1.bar(x+1-0.2, np.array(grouped_mean_delays)/group_size, width, color=\"grey\", label=\"mean delay\")\n",
    "\n",
    "ax1.set_xlabel('transfer time [min]')\n",
    "ax1.set_ylabel('mean delay [min]')\n",
    "\n",
    "ax1.set_yticks(y_ticks_array)\n",
    "ax1.yaxis.grid(\"major\", alpha=0.2)\n",
    "xticks_array =  [f'{start}-{end}' for start, end in zip(range(1, 60, group_size), range(1 + group_size - 1, 60 + 1, group_size))]\n",
    "ax1.set_xticks(x + 1)\n",
    "ax1.set_xticklabels(xticks_array, rotation=45, ha='right')  \n",
    "\n",
    "\n",
    "\n",
    "\n",
    "\n",
    "ax2 = ax1.twinx()\n",
    "\n",
    "bottom = np.zeros(len(grouped_mean_delays))\n",
    "\n",
    "reachables_total = np.array(grouped_reachable1) + np.array(grouped_reachable2) + np.array(grouped_reachable3)\n",
    "bar1 = np.array(grouped_reachable1)/reachables_total * 100\n",
    "bar2 = np.array(grouped_reachable2)/reachables_total * 100\n",
    "bar3 = np.array(grouped_reachable3)/reachables_total * 100\n",
    "\n",
    "ax2.bar(x+1+0.2, bar1, width, color=\"#FFBB78\", label=\"case 1\", bottom=bottom+bar2+bar3)\n",
    "ax2.bar(x+1+0.2, bar2, width, color=\"#C49C94\", label=\"case 2\", bottom=bottom+bar3)\n",
    "ax2.bar(x+1+0.2, bar3, width, color=\"#DBDB8D\", label=\"case 3\", bottom=bottom)\n",
    "\n",
    "ax2.set_ylabel('reachability cases [%]')\n",
    "\n",
    "bars1, labels1 = ax1.get_legend_handles_labels()\n",
    "bars2, labels2 = ax2.get_legend_handles_labels()\n",
    "\n",
    "ax2.legend(bars1 + bars2, labels1 + labels2, loc=\"lower left\")\n",
    "\n",
    "plt.savefig(\"plot_meanDelay_reachability_switchTime.pdf\", format=\"pdf\")\n",
    "\n",
    "plt.show()"
   ]
  }
 ],
 "metadata": {
  "kernelspec": {
   "display_name": "base",
   "language": "python",
   "name": "python3"
  },
  "language_info": {
   "codemirror_mode": {
    "name": "ipython",
    "version": 3
   },
   "file_extension": ".py",
   "mimetype": "text/x-python",
   "name": "python",
   "nbconvert_exporter": "python",
   "pygments_lexer": "ipython3",
   "version": "3.11.0"
  }
 },
 "nbformat": 4,
 "nbformat_minor": 2
}
